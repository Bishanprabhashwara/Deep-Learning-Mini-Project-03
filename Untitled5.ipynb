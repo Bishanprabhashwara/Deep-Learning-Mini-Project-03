{
  "nbformat": 4,
  "nbformat_minor": 0,
  "metadata": {
    "colab": {
      "provenance": [],
      "gpuType": "T4"
    },
    "kernelspec": {
      "name": "python3",
      "display_name": "Python 3"
    },
    "language_info": {
      "name": "python"
    },
    "accelerator": "GPU"
  },
  "cells": [
    {
      "cell_type": "code",
      "execution_count": 12,
      "metadata": {
        "id": "D9rHBNX-yxKM"
      },
      "outputs": [],
      "source": [
        "import numpy as np\n",
        "import pandas as pd\n",
        "from sklearn.model_selection import train_test_split\n",
        "from keras.preprocessing.text import Tokenizer\n",
        "from keras.preprocessing.sequence import pad_sequences\n",
        "from keras.models import Model\n",
        "from keras.layers import Input, Embedding, Dense, Masking\n",
        "from keras.layers import Attention, LayerNormalization, Dropout\n",
        "from keras.optimizers import Adam"
      ]
    },
    {
      "cell_type": "code",
      "source": [
        "from google.colab import drive\n",
        "drive.mount('/content/drive')"
      ],
      "metadata": {
        "id": "zVVxY3ujzFZs",
        "colab": {
          "base_uri": "https://localhost:8080/"
        },
        "outputId": "6e9694e1-5bf1-46f7-ba8b-23ecc9a94832"
      },
      "execution_count": 47,
      "outputs": [
        {
          "output_type": "stream",
          "name": "stdout",
          "text": [
            "Drive already mounted at /content/drive; to attempt to forcibly remount, call drive.mount(\"/content/drive\", force_remount=True).\n"
          ]
        }
      ]
    },
    {
      "cell_type": "code",
      "source": [
        "os.chdir(\"/content/drive/My Drive/Colab Notebooks/\")\n",
        "os.getcwd()"
      ],
      "metadata": {
        "id": "ETwXiUN6zHsq",
        "colab": {
          "base_uri": "https://localhost:8080/",
          "height": 36
        },
        "outputId": "ce0084a0-6376-48d5-a601-7eefb559fd08"
      },
      "execution_count": 48,
      "outputs": [
        {
          "output_type": "execute_result",
          "data": {
            "text/plain": [
              "'/content/drive/My Drive/Colab Notebooks'"
            ],
            "application/vnd.google.colaboratory.intrinsic+json": {
              "type": "string"
            }
          },
          "metadata": {},
          "execution_count": 48
        }
      ]
    },
    {
      "cell_type": "code",
      "source": [
        "df=pd.read_csv('output.csv')"
      ],
      "metadata": {
        "id": "7ghbNVa-8E1E"
      },
      "execution_count": 49,
      "outputs": []
    },
    {
      "cell_type": "code",
      "source": [
        "df"
      ],
      "metadata": {
        "colab": {
          "base_uri": "https://localhost:8080/",
          "height": 423
        },
        "id": "pc85GG0N8JmG",
        "outputId": "f8b71066-d665-4f69-8ce1-1ce29d11f3e0"
      },
      "execution_count": 5,
      "outputs": [
        {
          "output_type": "execute_result",
          "data": {
            "text/plain": [
              "                                                 english  \\\n",
              "0                 you will receive a package in the mail   \n",
              "1      you will receive a confirmation code after com...   \n",
              "2      you will receive a discount on your next purchase   \n",
              "3      you will receive a phone call from our custome...   \n",
              "4      you will receive a notification when your orde...   \n",
              "...                                                  ...   \n",
              "80679  Deep in the enchanted forest a group of woodla...   \n",
              "80680  On a sunny summer day a group of friends gathe...   \n",
              "80681  In a quaint seaside village a mysterious stran...   \n",
              "80682  Thomas an aspiring writer found inspiration in...   \n",
              "80683  In a land of mythical creatures a young dragon...   \n",
              "\n",
              "                                                 sinhala  \n",
              "0                     ඔයාට තැපෑලෙන් පැකේජ් එකක් හම්බවේවි  \n",
              "1      ලියාපදිංචිය සම්පූර්ණ කලාට පස්සෙ ඔයාට තහවුරු කි...  \n",
              "2          ඊලඟ මිලදී ගැනීම කරන කොට ඔයාට වට්ටමක් හම්බවේවි  \n",
              "3      ඔයාට අපේ පාරිභෝගික සේවා කණ්ඩායමෙන් දුරකථන ඇමතු...  \n",
              "4      ඔයාගේ ඇණවුම සූදානම් උනාට පස්සෙ ඔයාට දැනුම් දීම...  \n",
              "...                                                  ...  \n",
              "80679  වශීකෘත වනාන්තරයේ ගැඹුරින් නුවණැති මහලු බකමූණෙක...  \n",
              "80680  අව්ව සහිත ගිම්හාන දිනයක මිතුරන් පිරිසක් වැලි ම...  \n",
              "80681  විචිත්‍රවත් මුහුදු වෙරළේ ගම්මානයකට අද්භූත ආගන්...  \n",
              "80682  අභිලාෂකාමී ලේඛකයෙකු වන තෝමස් සෑම අස්සක් මුල්ලක...  \n",
              "80683  මිථ්‍යා ජීවීන් සිටින රටක එම්බර් නම් තරුණ මකරෙක...  \n",
              "\n",
              "[80684 rows x 2 columns]"
            ],
            "text/html": [
              "\n",
              "  <div id=\"df-be5ad034-820a-4111-915f-4b2a887ea037\" class=\"colab-df-container\">\n",
              "    <div>\n",
              "<style scoped>\n",
              "    .dataframe tbody tr th:only-of-type {\n",
              "        vertical-align: middle;\n",
              "    }\n",
              "\n",
              "    .dataframe tbody tr th {\n",
              "        vertical-align: top;\n",
              "    }\n",
              "\n",
              "    .dataframe thead th {\n",
              "        text-align: right;\n",
              "    }\n",
              "</style>\n",
              "<table border=\"1\" class=\"dataframe\">\n",
              "  <thead>\n",
              "    <tr style=\"text-align: right;\">\n",
              "      <th></th>\n",
              "      <th>english</th>\n",
              "      <th>sinhala</th>\n",
              "    </tr>\n",
              "  </thead>\n",
              "  <tbody>\n",
              "    <tr>\n",
              "      <th>0</th>\n",
              "      <td>you will receive a package in the mail</td>\n",
              "      <td>ඔයාට තැපෑලෙන් පැකේජ් එකක් හම්බවේවි</td>\n",
              "    </tr>\n",
              "    <tr>\n",
              "      <th>1</th>\n",
              "      <td>you will receive a confirmation code after com...</td>\n",
              "      <td>ලියාපදිංචිය සම්පූර්ණ කලාට පස්සෙ ඔයාට තහවුරු කි...</td>\n",
              "    </tr>\n",
              "    <tr>\n",
              "      <th>2</th>\n",
              "      <td>you will receive a discount on your next purchase</td>\n",
              "      <td>ඊලඟ මිලදී ගැනීම කරන කොට ඔයාට වට්ටමක් හම්බවේවි</td>\n",
              "    </tr>\n",
              "    <tr>\n",
              "      <th>3</th>\n",
              "      <td>you will receive a phone call from our custome...</td>\n",
              "      <td>ඔයාට අපේ පාරිභෝගික සේවා කණ්ඩායමෙන් දුරකථන ඇමතු...</td>\n",
              "    </tr>\n",
              "    <tr>\n",
              "      <th>4</th>\n",
              "      <td>you will receive a notification when your orde...</td>\n",
              "      <td>ඔයාගේ ඇණවුම සූදානම් උනාට පස්සෙ ඔයාට දැනුම් දීම...</td>\n",
              "    </tr>\n",
              "    <tr>\n",
              "      <th>...</th>\n",
              "      <td>...</td>\n",
              "      <td>...</td>\n",
              "    </tr>\n",
              "    <tr>\n",
              "      <th>80679</th>\n",
              "      <td>Deep in the enchanted forest a group of woodla...</td>\n",
              "      <td>වශීකෘත වනාන්තරයේ ගැඹුරින් නුවණැති මහලු බකමූණෙක...</td>\n",
              "    </tr>\n",
              "    <tr>\n",
              "      <th>80680</th>\n",
              "      <td>On a sunny summer day a group of friends gathe...</td>\n",
              "      <td>අව්ව සහිත ගිම්හාන දිනයක මිතුරන් පිරිසක් වැලි ම...</td>\n",
              "    </tr>\n",
              "    <tr>\n",
              "      <th>80681</th>\n",
              "      <td>In a quaint seaside village a mysterious stran...</td>\n",
              "      <td>විචිත්‍රවත් මුහුදු වෙරළේ ගම්මානයකට අද්භූත ආගන්...</td>\n",
              "    </tr>\n",
              "    <tr>\n",
              "      <th>80682</th>\n",
              "      <td>Thomas an aspiring writer found inspiration in...</td>\n",
              "      <td>අභිලාෂකාමී ලේඛකයෙකු වන තෝමස් සෑම අස්සක් මුල්ලක...</td>\n",
              "    </tr>\n",
              "    <tr>\n",
              "      <th>80683</th>\n",
              "      <td>In a land of mythical creatures a young dragon...</td>\n",
              "      <td>මිථ්‍යා ජීවීන් සිටින රටක එම්බර් නම් තරුණ මකරෙක...</td>\n",
              "    </tr>\n",
              "  </tbody>\n",
              "</table>\n",
              "<p>80684 rows × 2 columns</p>\n",
              "</div>\n",
              "    <div class=\"colab-df-buttons\">\n",
              "\n",
              "  <div class=\"colab-df-container\">\n",
              "    <button class=\"colab-df-convert\" onclick=\"convertToInteractive('df-be5ad034-820a-4111-915f-4b2a887ea037')\"\n",
              "            title=\"Convert this dataframe to an interactive table.\"\n",
              "            style=\"display:none;\">\n",
              "\n",
              "  <svg xmlns=\"http://www.w3.org/2000/svg\" height=\"24px\" viewBox=\"0 -960 960 960\">\n",
              "    <path d=\"M120-120v-720h720v720H120Zm60-500h600v-160H180v160Zm220 220h160v-160H400v160Zm0 220h160v-160H400v160ZM180-400h160v-160H180v160Zm440 0h160v-160H620v160ZM180-180h160v-160H180v160Zm440 0h160v-160H620v160Z\"/>\n",
              "  </svg>\n",
              "    </button>\n",
              "\n",
              "  <style>\n",
              "    .colab-df-container {\n",
              "      display:flex;\n",
              "      gap: 12px;\n",
              "    }\n",
              "\n",
              "    .colab-df-convert {\n",
              "      background-color: #E8F0FE;\n",
              "      border: none;\n",
              "      border-radius: 50%;\n",
              "      cursor: pointer;\n",
              "      display: none;\n",
              "      fill: #1967D2;\n",
              "      height: 32px;\n",
              "      padding: 0 0 0 0;\n",
              "      width: 32px;\n",
              "    }\n",
              "\n",
              "    .colab-df-convert:hover {\n",
              "      background-color: #E2EBFA;\n",
              "      box-shadow: 0px 1px 2px rgba(60, 64, 67, 0.3), 0px 1px 3px 1px rgba(60, 64, 67, 0.15);\n",
              "      fill: #174EA6;\n",
              "    }\n",
              "\n",
              "    .colab-df-buttons div {\n",
              "      margin-bottom: 4px;\n",
              "    }\n",
              "\n",
              "    [theme=dark] .colab-df-convert {\n",
              "      background-color: #3B4455;\n",
              "      fill: #D2E3FC;\n",
              "    }\n",
              "\n",
              "    [theme=dark] .colab-df-convert:hover {\n",
              "      background-color: #434B5C;\n",
              "      box-shadow: 0px 1px 3px 1px rgba(0, 0, 0, 0.15);\n",
              "      filter: drop-shadow(0px 1px 2px rgba(0, 0, 0, 0.3));\n",
              "      fill: #FFFFFF;\n",
              "    }\n",
              "  </style>\n",
              "\n",
              "    <script>\n",
              "      const buttonEl =\n",
              "        document.querySelector('#df-be5ad034-820a-4111-915f-4b2a887ea037 button.colab-df-convert');\n",
              "      buttonEl.style.display =\n",
              "        google.colab.kernel.accessAllowed ? 'block' : 'none';\n",
              "\n",
              "      async function convertToInteractive(key) {\n",
              "        const element = document.querySelector('#df-be5ad034-820a-4111-915f-4b2a887ea037');\n",
              "        const dataTable =\n",
              "          await google.colab.kernel.invokeFunction('convertToInteractive',\n",
              "                                                    [key], {});\n",
              "        if (!dataTable) return;\n",
              "\n",
              "        const docLinkHtml = 'Like what you see? Visit the ' +\n",
              "          '<a target=\"_blank\" href=https://colab.research.google.com/notebooks/data_table.ipynb>data table notebook</a>'\n",
              "          + ' to learn more about interactive tables.';\n",
              "        element.innerHTML = '';\n",
              "        dataTable['output_type'] = 'display_data';\n",
              "        await google.colab.output.renderOutput(dataTable, element);\n",
              "        const docLink = document.createElement('div');\n",
              "        docLink.innerHTML = docLinkHtml;\n",
              "        element.appendChild(docLink);\n",
              "      }\n",
              "    </script>\n",
              "  </div>\n",
              "\n",
              "\n",
              "<div id=\"df-012c73a1-5603-477c-a0c4-de85c0238096\">\n",
              "  <button class=\"colab-df-quickchart\" onclick=\"quickchart('df-012c73a1-5603-477c-a0c4-de85c0238096')\"\n",
              "            title=\"Suggest charts\"\n",
              "            style=\"display:none;\">\n",
              "\n",
              "<svg xmlns=\"http://www.w3.org/2000/svg\" height=\"24px\"viewBox=\"0 0 24 24\"\n",
              "     width=\"24px\">\n",
              "    <g>\n",
              "        <path d=\"M19 3H5c-1.1 0-2 .9-2 2v14c0 1.1.9 2 2 2h14c1.1 0 2-.9 2-2V5c0-1.1-.9-2-2-2zM9 17H7v-7h2v7zm4 0h-2V7h2v10zm4 0h-2v-4h2v4z\"/>\n",
              "    </g>\n",
              "</svg>\n",
              "  </button>\n",
              "\n",
              "<style>\n",
              "  .colab-df-quickchart {\n",
              "      --bg-color: #E8F0FE;\n",
              "      --fill-color: #1967D2;\n",
              "      --hover-bg-color: #E2EBFA;\n",
              "      --hover-fill-color: #174EA6;\n",
              "      --disabled-fill-color: #AAA;\n",
              "      --disabled-bg-color: #DDD;\n",
              "  }\n",
              "\n",
              "  [theme=dark] .colab-df-quickchart {\n",
              "      --bg-color: #3B4455;\n",
              "      --fill-color: #D2E3FC;\n",
              "      --hover-bg-color: #434B5C;\n",
              "      --hover-fill-color: #FFFFFF;\n",
              "      --disabled-bg-color: #3B4455;\n",
              "      --disabled-fill-color: #666;\n",
              "  }\n",
              "\n",
              "  .colab-df-quickchart {\n",
              "    background-color: var(--bg-color);\n",
              "    border: none;\n",
              "    border-radius: 50%;\n",
              "    cursor: pointer;\n",
              "    display: none;\n",
              "    fill: var(--fill-color);\n",
              "    height: 32px;\n",
              "    padding: 0;\n",
              "    width: 32px;\n",
              "  }\n",
              "\n",
              "  .colab-df-quickchart:hover {\n",
              "    background-color: var(--hover-bg-color);\n",
              "    box-shadow: 0 1px 2px rgba(60, 64, 67, 0.3), 0 1px 3px 1px rgba(60, 64, 67, 0.15);\n",
              "    fill: var(--button-hover-fill-color);\n",
              "  }\n",
              "\n",
              "  .colab-df-quickchart-complete:disabled,\n",
              "  .colab-df-quickchart-complete:disabled:hover {\n",
              "    background-color: var(--disabled-bg-color);\n",
              "    fill: var(--disabled-fill-color);\n",
              "    box-shadow: none;\n",
              "  }\n",
              "\n",
              "  .colab-df-spinner {\n",
              "    border: 2px solid var(--fill-color);\n",
              "    border-color: transparent;\n",
              "    border-bottom-color: var(--fill-color);\n",
              "    animation:\n",
              "      spin 1s steps(1) infinite;\n",
              "  }\n",
              "\n",
              "  @keyframes spin {\n",
              "    0% {\n",
              "      border-color: transparent;\n",
              "      border-bottom-color: var(--fill-color);\n",
              "      border-left-color: var(--fill-color);\n",
              "    }\n",
              "    20% {\n",
              "      border-color: transparent;\n",
              "      border-left-color: var(--fill-color);\n",
              "      border-top-color: var(--fill-color);\n",
              "    }\n",
              "    30% {\n",
              "      border-color: transparent;\n",
              "      border-left-color: var(--fill-color);\n",
              "      border-top-color: var(--fill-color);\n",
              "      border-right-color: var(--fill-color);\n",
              "    }\n",
              "    40% {\n",
              "      border-color: transparent;\n",
              "      border-right-color: var(--fill-color);\n",
              "      border-top-color: var(--fill-color);\n",
              "    }\n",
              "    60% {\n",
              "      border-color: transparent;\n",
              "      border-right-color: var(--fill-color);\n",
              "    }\n",
              "    80% {\n",
              "      border-color: transparent;\n",
              "      border-right-color: var(--fill-color);\n",
              "      border-bottom-color: var(--fill-color);\n",
              "    }\n",
              "    90% {\n",
              "      border-color: transparent;\n",
              "      border-bottom-color: var(--fill-color);\n",
              "    }\n",
              "  }\n",
              "</style>\n",
              "\n",
              "  <script>\n",
              "    async function quickchart(key) {\n",
              "      const quickchartButtonEl =\n",
              "        document.querySelector('#' + key + ' button');\n",
              "      quickchartButtonEl.disabled = true;  // To prevent multiple clicks.\n",
              "      quickchartButtonEl.classList.add('colab-df-spinner');\n",
              "      try {\n",
              "        const charts = await google.colab.kernel.invokeFunction(\n",
              "            'suggestCharts', [key], {});\n",
              "      } catch (error) {\n",
              "        console.error('Error during call to suggestCharts:', error);\n",
              "      }\n",
              "      quickchartButtonEl.classList.remove('colab-df-spinner');\n",
              "      quickchartButtonEl.classList.add('colab-df-quickchart-complete');\n",
              "    }\n",
              "    (() => {\n",
              "      let quickchartButtonEl =\n",
              "        document.querySelector('#df-012c73a1-5603-477c-a0c4-de85c0238096 button');\n",
              "      quickchartButtonEl.style.display =\n",
              "        google.colab.kernel.accessAllowed ? 'block' : 'none';\n",
              "    })();\n",
              "  </script>\n",
              "</div>\n",
              "\n",
              "  <div id=\"id_8bcca627-d3a9-4c15-8625-7718e99d6eeb\">\n",
              "    <style>\n",
              "      .colab-df-generate {\n",
              "        background-color: #E8F0FE;\n",
              "        border: none;\n",
              "        border-radius: 50%;\n",
              "        cursor: pointer;\n",
              "        display: none;\n",
              "        fill: #1967D2;\n",
              "        height: 32px;\n",
              "        padding: 0 0 0 0;\n",
              "        width: 32px;\n",
              "      }\n",
              "\n",
              "      .colab-df-generate:hover {\n",
              "        background-color: #E2EBFA;\n",
              "        box-shadow: 0px 1px 2px rgba(60, 64, 67, 0.3), 0px 1px 3px 1px rgba(60, 64, 67, 0.15);\n",
              "        fill: #174EA6;\n",
              "      }\n",
              "\n",
              "      [theme=dark] .colab-df-generate {\n",
              "        background-color: #3B4455;\n",
              "        fill: #D2E3FC;\n",
              "      }\n",
              "\n",
              "      [theme=dark] .colab-df-generate:hover {\n",
              "        background-color: #434B5C;\n",
              "        box-shadow: 0px 1px 3px 1px rgba(0, 0, 0, 0.15);\n",
              "        filter: drop-shadow(0px 1px 2px rgba(0, 0, 0, 0.3));\n",
              "        fill: #FFFFFF;\n",
              "      }\n",
              "    </style>\n",
              "    <button class=\"colab-df-generate\" onclick=\"generateWithVariable('df')\"\n",
              "            title=\"Generate code using this dataframe.\"\n",
              "            style=\"display:none;\">\n",
              "\n",
              "  <svg xmlns=\"http://www.w3.org/2000/svg\" height=\"24px\"viewBox=\"0 0 24 24\"\n",
              "       width=\"24px\">\n",
              "    <path d=\"M7,19H8.4L18.45,9,17,7.55,7,17.6ZM5,21V16.75L18.45,3.32a2,2,0,0,1,2.83,0l1.4,1.43a1.91,1.91,0,0,1,.58,1.4,1.91,1.91,0,0,1-.58,1.4L9.25,21ZM18.45,9,17,7.55Zm-12,3A5.31,5.31,0,0,0,4.9,8.1,5.31,5.31,0,0,0,1,6.5,5.31,5.31,0,0,0,4.9,4.9,5.31,5.31,0,0,0,6.5,1,5.31,5.31,0,0,0,8.1,4.9,5.31,5.31,0,0,0,12,6.5,5.46,5.46,0,0,0,6.5,12Z\"/>\n",
              "  </svg>\n",
              "    </button>\n",
              "    <script>\n",
              "      (() => {\n",
              "      const buttonEl =\n",
              "        document.querySelector('#id_8bcca627-d3a9-4c15-8625-7718e99d6eeb button.colab-df-generate');\n",
              "      buttonEl.style.display =\n",
              "        google.colab.kernel.accessAllowed ? 'block' : 'none';\n",
              "\n",
              "      buttonEl.onclick = () => {\n",
              "        google.colab.notebook.generateWithVariable('df');\n",
              "      }\n",
              "      })();\n",
              "    </script>\n",
              "  </div>\n",
              "\n",
              "    </div>\n",
              "  </div>\n"
            ],
            "application/vnd.google.colaboratory.intrinsic+json": {
              "type": "dataframe",
              "variable_name": "df",
              "summary": "{\n  \"name\": \"df\",\n  \"rows\": 80684,\n  \"fields\": [\n    {\n      \"column\": \"english\",\n      \"properties\": {\n        \"dtype\": \"string\",\n        \"num_unique_values\": 67189,\n        \"samples\": [\n          \"where is your phone\",\n          \"nice to hear your voice i live i am fine\",\n          \"it's all about chasing a noble dream\"\n        ],\n        \"semantic_type\": \"\",\n        \"description\": \"\"\n      }\n    },\n    {\n      \"column\": \"sinhala\",\n      \"properties\": {\n        \"dtype\": \"string\",\n        \"num_unique_values\": 69329,\n        \"samples\": [\n          \"\\u0db8\\u0dda \\u0db6\\u0dbd\\u0db1\\u0dca\\u0db1\\u0d9a\\u0ddc\\u0dc4\\u0ddc\\u0db8\\u0daf \\u0dc0\\u0dd0\\u0dbd\\u0daf\\u0d9c\\u0db1\\u0dca\\u0db1\\u0dda \\u0d9a\\u0dd2\\u0dba\\u0dbd\",\n          \"\\u0da2\\u0db1\\u0dcf\\u0db0\\u0dd2\\u0db4\\u0dad\\u0dd2\\u0dad\\u0dd4\\u0db8\\u0dcf \\u0d9c\\u0dcf\\u0dc0\\u0da7\\u0dc0\\u0dad\\u0dca \\u0d91\\u0db1\\u0dca\\u0db1 \\u0db6\\u0dd0\\u0dbb\\u0dd2 \\u0dc0\\u0dd9\\u0dba\\u0dd2\",\n          \"\\u0d85\\u0db4\\u0dd2\\u0da7 \\u0db8\\u0dd9\\u0dba\\u0dcf\\u0dc0 \\u0db1\\u0dda\\u0db8\\u0dbb\\u0dca \\u0da7 \\u0daf\\u0dd9\\u0db1\\u0dca\\u0db1 \\u0db6\\u0dd1\"\n        ],\n        \"semantic_type\": \"\",\n        \"description\": \"\"\n      }\n    }\n  ]\n}"
            }
          },
          "metadata": {},
          "execution_count": 5
        }
      ]
    },
    {
      "cell_type": "code",
      "source": [
        "spa_sentences = df[\"sinhala\"] + \"\\t\" + df[\"english\"]\n",
        "\n",
        "# Save the concatenated sentences to a text file\n",
        "with open(\"spa.txt\", \"w\", encoding=\"utf-8\") as file:\n",
        "    for sentence in spa_sentences:\n",
        "        file.write(str(sentence) + \"\\n\")"
      ],
      "metadata": {
        "id": "w582iaWz8hlc"
      },
      "execution_count": 39,
      "outputs": []
    },
    {
      "cell_type": "code",
      "source": [
        "text_file =\"spa.txt\""
      ],
      "metadata": {
        "id": "K1JULi9f-5zw"
      },
      "execution_count": 51,
      "outputs": []
    },
    {
      "cell_type": "markdown",
      "source": [],
      "metadata": {
        "id": "mNamCma-F6SP"
      }
    },
    {
      "cell_type": "code",
      "source": [
        "text_file =\"spa.txt\"\n",
        "with open(text_file) as f:\n",
        "  lines=f.read().split(\"\\n\")[:-1]"
      ],
      "metadata": {
        "id": "8jN-n1BQAQK5"
      },
      "execution_count": 53,
      "outputs": []
    },
    {
      "cell_type": "code",
      "source": [
        "i=0\n",
        "for line in lines:\n",
        "  print(line)\n",
        "  i=i+1\n",
        "  if(i==20):\n",
        "    break"
      ],
      "metadata": {
        "colab": {
          "base_uri": "https://localhost:8080/"
        },
        "id": "af1PEoZNAXz2",
        "outputId": "a67b241a-5b6d-4454-ffef-6eebd806832c"
      },
      "execution_count": 54,
      "outputs": [
        {
          "output_type": "stream",
          "name": "stdout",
          "text": [
            "ඔයාට තැපෑලෙන් පැකේජ් එකක් හම්බවේවි\tyou will receive a package in the mail\n",
            "ලියාපදිංචිය සම්පූර්ණ කලාට පස්සෙ ඔයාට තහවුරු කිරීමේ කේතයක්  හම්බවේවි\tyou will receive a confirmation code after completing the registration\n",
            "ඊලඟ මිලදී ගැනීම කරන කොට ඔයාට වට්ටමක් හම්බවේවි\tyou will receive a discount on your next purchase\n",
            "ඔයාට අපේ පාරිභෝගික සේවා කණ්ඩායමෙන් දුරකථන ඇමතුමක් හම්බවේවි\tyou will receive a phone call from our customer service team\n",
            "ඔයාගේ ඇණවුම සූදානම් උනාට පස්සෙ ඔයාට දැනුම් දීමක් හම්බවේවි\tyou will receive a notification when your order is ready for pickup\n",
            "ඔයාට පැය 24ක් ඇතුලත ඔයාගෙ විමසීමට පිළිතුරක්  හම්බවේවි\tyou will receive a response to your inquiry within 24 hours\n",
            "ඔයාට ඔයාගේ පක්ෂපාතිත්වය වෙනුවෙන් තෑග්ගක් හම්බවේවි\tyou will receive a gift for your loyalty\n",
            "ඔයාට උත්සවයට ආරාධනාවක් හම්බවේවි\tyou will receive an invitation to the event\n",
            "ඔයාට රිටන් කරන භාණ්ඩය වෙනුවෙන් ආපසු මුදල් ගෙවීමක් හම්බවේවි\tyou will receive a refund for the returned item\n",
            "ඔයාට විස්තර එක්ක  ඊමේල් එකක් හම්බවේවි\tyou'll receive an email with the details\n",
            "ඔයාට තැපෑලෙන් පැකේජ් එකක් හම්බවේවි\tyou'll receive a package in the mail\n",
            "ඔයාට රිටන් කරන භාණ්ඩය වෙනුවෙන් ආපසු මුදල් ගෙවීමක් හම්බවේවි\tyou'll receive a refund for the returned item\n",
            "ඔයාට ඔයාගේ පක්ෂපාතිත්වය වෙනුවෙන් තෑග්ගක් හම්බවේවි\tyou'll receive a gift for your loyalty\n",
            "ඔයාගෙ අම්මට කාර් එකක් හම්බවේවි\tyour mother will receive a car\n",
            "ඔයාගෙ සහෝදරයට කාර් එකක් හම්බවේවි\tyour brother will receive a car\n",
            "ඒක මාර ලස්සනයි\tit's pretty cool\n",
            "අපි ඔයාට ආරාධනා කරනවා ඒක කරන්න කියලා\twe're inviting you to do that\n",
            "යන්ත්‍ර පරිවර්තනය දියුණු කරන්න අපිත් එක්ක එකතු වෙන්න\tjoin us in improving machine translation\n",
            "ඔයාගෙ පරිවර්තන NMT මොඩලය පුහුණු කරන්න පාවිච්චි කරාවි\tyour translations will be used to train an nmt model\n",
            "අපි ඔයාට ආරාධනා කරනවා  ZoomNMT පුහුණු කරන්න පරිවර්තන සාම්පල ඉදිරිපත් කරන්න කියලා\twe're inviting you to submit translation samples for the zoomnmt training\n"
          ]
        }
      ]
    },
    {
      "cell_type": "code",
      "source": [
        "for x in range(len(lines)-10,len(lines)):\n",
        "  print(lines[x])"
      ],
      "metadata": {
        "colab": {
          "base_uri": "https://localhost:8080/"
        },
        "id": "okVVuwCiAcTd",
        "outputId": "e2cb1694-7655-46d4-943a-10b90b9282c9"
      },
      "execution_count": 55,
      "outputs": [
        {
          "output_type": "stream",
          "name": "stdout",
          "text": [
            "එක් කලෙක කුඩා ගමක ලිලී නම් තරුණියක් ජීවත් වූ අතර ඇයට ලස්සනම මල් වගා කිරීම සඳහා විශේෂ තෑග්ගක් තිබුණි\tOnce upon a time in a small village there lived a young girl named Lily who had a special gift for growing the most beautiful flowers\n",
            "දුර රටක ශ්‍රීමත් ආතර් නම් නිර්භීත නයිට්වරයා නපුරු මායාකාරයෙකුගෙන් පැහැරගෙන ගිය කුමරියක් බේරා ගැනීමට භයානක ගමනක් ආරම්භ කළේය\tIn a distant land a brave knight named Sir Arthur embarked on a perilous journey to rescue a kidnapped princess from an evil sorcerer\n",
            "කුතුහලය දනවන ගවේෂකයෙකු වන එමිලි ඇමසන් වනාන්තරයේ ගැඹුරින් ගිලිහී ගිය පැරණි නගරයක සැඟවුණු වස්තු සොයා ගැනීමට ත්‍රාසජනක ගමනක් ආරම්භ කළාය\tEmily a curious explorer set out on an adventure to uncover the hidden treasures of an ancient lost city deep in the Amazon rainforest\n",
            "සාමකාමී නගරයක් වන විලෝබෲක්හි ඔලිවර් නම් දඟකාර බළලාට විනෝදජනක සහ අනපේක්ෂිත දුෂ්කරතාවන්ට පත්වීමේ දක්ෂතාවයක් තිබුණි\tIn the peaceful town of Willowbrook a mischievous cat named Oliver had a talent for getting into amusing and unexpected predicaments\n",
            "දක්ෂ පියානෝ වාදකයෙකු වන සාරා Carnegie Hall හි මහා වේදිකාවේ රඟ දැක්වීමට සිහින මැවූ අතර ඇගේ සංගීත ශිල්පය පුහුණු කිරීමට පැය ගණන් ගත කළාය\tSarah a talented pianist dreamt of performing on the grand stage of Carnegie Hall and spent countless hours practicing her musical craft\n",
            "වශීකෘත වනාන්තරයේ ගැඹුරින් නුවණැති මහලු බකමූණෙකු විසින් මෙහෙයවන ලද වනාන්තර ජීවීන් කණ්ඩායමක් තම නිවස විනාශයෙන් බේරා ගැනීමේ ගවේෂණයක යෙදී සිටියහ\tDeep in the enchanted forest a group of woodland creatures led by a wise old owl embarked on a quest to save their home from destruction\n",
            "අව්ව සහිත ගිම්හාන දිනයක මිතුරන් පිරිසක් වැලි මාලිගා ගොඩ නැගීම පිහිනීම සහ සිනහවෙන් විනෝදයෙන් පිරුණු දවසක් සඳහා වෙරළට රැස් වූහ\tOn a sunny summer day a group of friends gathered at the beach for a fun-filled day of sandcastle building swimming and laughter\n",
            "විචිත්‍රවත් මුහුදු වෙරළේ ගම්මානයකට අද්භූත ආගන්තුකයෙකු පැමිණියේ ඔවුන් සමඟ උද්දීපනයක් සහ නගර වැසියන්ගේ ජීවිතයට අනපේක්ෂිත පෙරළියක් ගෙන එයි\tIn a quaint seaside village a mysterious stranger arrived bringing with them an air of excitement and an unexpected twist to the townspeople's lives\n",
            "අභිලාෂකාමී ලේඛකයෙකු වන තෝමස් සෑම අස්සක් මුල්ලක් නෑරම කීමට බලා සිටින කතන්දර ඇති උද්යෝගිමත් නගරයක කාර්යබහුල වීදිවල ආශ්වාදයක් ලබා ගත්තේය\tThomas an aspiring writer found inspiration in the bustling streets of a vibrant city where every corner held a story waiting to be told\n",
            "මිථ්‍යා ජීවීන් සිටින රටක එම්බර් නම් තරුණ මකරෙක් මිත්‍රත්වයේ සහ ධෛර්‍යයේ වටිනා පාඩම් ඉගෙන ගනිමින් ඇගේ ගිනි හුස්ම පාලනය කිරීමට මහත් පරිශ්‍රමයක් දැරීය\tIn a land of mythical creatures a young dragon named Ember struggled to control her fiery breath while learning valuable lessons of friendship and courage\n"
          ]
        }
      ]
    },
    {
      "cell_type": "code",
      "source": [
        "import random\n",
        "import string\n",
        "import re\n",
        "\n",
        "text_pairs = []\n",
        "\n",
        "\n",
        "for line in lines:\n",
        "    if '\\t' in line:\n",
        "        english, sinhala = line.split(\"\\t\")\n",
        "        sinhala = \"[start]\" + sinhala.strip() + \"[end]\"\n",
        "        text_pairs.append((english.strip(), sinhala))\n",
        "for i in range(3):\n",
        "    print(random.choice(text_pairs))\n"
      ],
      "metadata": {
        "colab": {
          "base_uri": "https://localhost:8080/"
        },
        "id": "A3K4lA_TAiKM",
        "outputId": "55dbccb7-807c-4178-9a84-e47908408816"
      },
      "execution_count": 59,
      "outputs": [
        {
          "output_type": "stream",
          "name": "stdout",
          "text": [
            "('අපේ', '[start]of our[end]')\n",
            "('ඒත් මම ඊට වඩා වේගවත්', \"[start]but i'm faster than that[end]\")\n",
            "('පරිවර්තනය හා උපසිරැසි ගැන්වි', '[start]translated and subtitled[end]')\n"
          ]
        }
      ]
    },
    {
      "cell_type": "code",
      "source": [
        "import random\n",
        "random.shuffle(text_pairs)"
      ],
      "metadata": {
        "id": "OiFINLcyH6SQ"
      },
      "execution_count": 60,
      "outputs": []
    },
    {
      "cell_type": "code",
      "source": [
        "num_val_samples =int(0.15*len(text_pairs))\n",
        "num_train_samples=len(text_pairs) -2* num_val_samples\n",
        "train_pairs = text_pairs[:num_train_samples]\n",
        "val_pairs = text_pairs[num_train_samples:num_train_samples + num_val_samples]\n",
        "test_pairs = text_pairs[num_train_samples + num_val_samples:]"
      ],
      "metadata": {
        "id": "ehIcgOPECGU0"
      },
      "execution_count": 61,
      "outputs": []
    },
    {
      "cell_type": "code",
      "source": [
        "print(\"Total sentences:\",len(text_pairs))\n",
        "print(\"Training set size:\",len(train_pairs))\n",
        "print(\"Validation set size:\",len(val_pairs))\n",
        "print(\"Testing set size:\",len(test_pairs))"
      ],
      "metadata": {
        "colab": {
          "base_uri": "https://localhost:8080/"
        },
        "id": "eSXWkCSiIbFd",
        "outputId": "dd4eb6b6-3b14-4b32-adcf-0b825e1a62c5"
      },
      "execution_count": 62,
      "outputs": [
        {
          "output_type": "stream",
          "name": "stdout",
          "text": [
            "Total sentences: 80633\n",
            "Training set size: 56445\n",
            "Validation set size: 12094\n",
            "Testing set size: 12094\n"
          ]
        }
      ]
    },
    {
      "cell_type": "code",
      "source": [
        "len(train_pairs)+len(val_pairs)+len(test_pairs)"
      ],
      "metadata": {
        "colab": {
          "base_uri": "https://localhost:8080/"
        },
        "id": "_InNACfgIypi",
        "outputId": "db51c380-2202-426d-c7af-700e94500a13"
      },
      "execution_count": 63,
      "outputs": [
        {
          "output_type": "execute_result",
          "data": {
            "text/plain": [
              "80633"
            ]
          },
          "metadata": {},
          "execution_count": 63
        }
      ]
    },
    {
      "cell_type": "code",
      "source": [
        "strip_chars = string.punctuation + \"¿\"\n",
        "strip_chars = strip_chars.replace(\"[\", \"\")\n",
        "strip_chars = strip_chars.replace(\"]\", \"\")"
      ],
      "metadata": {
        "id": "i3SM4fSJI1j8"
      },
      "execution_count": 64,
      "outputs": []
    },
    {
      "cell_type": "code",
      "source": [
        "f\"[{re.escape(strip_chars)}]\""
      ],
      "metadata": {
        "colab": {
          "base_uri": "https://localhost:8080/",
          "height": 36
        },
        "id": "5oJtiTLnI4FD",
        "outputId": "41ca0aaf-e943-4857-ff0c-81b4b3e7df22"
      },
      "execution_count": 65,
      "outputs": [
        {
          "output_type": "execute_result",
          "data": {
            "text/plain": [
              "'[!\"\\\\#\\\\$%\\\\&\\'\\\\(\\\\)\\\\*\\\\+,\\\\-\\\\./:;<=>\\\\?@\\\\\\\\\\\\^_`\\\\{\\\\|\\\\}\\\\~¿]'"
            ],
            "application/vnd.google.colaboratory.intrinsic+json": {
              "type": "string"
            }
          },
          "metadata": {},
          "execution_count": 65
        }
      ]
    },
    {
      "cell_type": "code",
      "source": [
        "from tensorflow import keras\n",
        "from tensorflow.keras import layers\n",
        "def custom_standardization(input_string):\n",
        "  lowercase = tf.strings.lower(input_string)\n",
        "  return tf.strings.regex_replace(\n",
        "    lowercase, f\"[{re.escape(strip_chars)}]\", \"\")\n",
        "vocab_size = 15000\n",
        "sequence_length = 20\n",
        "source_vectorization = layers.TextVectorization(\n",
        "  max_tokens=vocab_size,\n",
        "  output_mode=\"int\",\n",
        "  output_sequence_length=sequence_length,\n",
        ")\n",
        "target_vectorization = layers.TextVectorization(\n",
        "  max_tokens=vocab_size,\n",
        "  output_mode=\"int\",\n",
        "  output_sequence_length=sequence_length + 1,\n",
        "  standardize=custom_standardization,\n",
        ")\n",
        "train_english_texts = [pair[0] for pair in train_pairs]\n",
        "train_spanish_texts = [pair[1] for pair in train_pairs]"
      ],
      "metadata": {
        "id": "e082vYLkI8WY"
      },
      "execution_count": 68,
      "outputs": []
    },
    {
      "cell_type": "code",
      "source": [
        "source_vectorization.adapt(train_english_texts)\n",
        "target_vectorization.adapt(train_spanish_texts)"
      ],
      "metadata": {
        "id": "h5kQGr9iJebo"
      },
      "execution_count": 69,
      "outputs": []
    },
    {
      "cell_type": "code",
      "source": [
        "batch_size=64\n",
        "\n",
        "def format_dataset(eng,spa):\n",
        "  eng=source_vectorization(eng)\n",
        "  spa=target_vectorization(spa)\n",
        "  return({\n",
        "      \"english\":eng,\n",
        "      \"sinhala\":spa[:,:-1],\n",
        "  },spa[:,1:])\n",
        "\n",
        "def make_dataset(pairs):\n",
        "  eng_texts, spa_texts =zip(*pairs)\n",
        "  eng_texts =list(eng_texts)\n",
        "  spa_texts =list(spa_texts)\n",
        "  dataset = tf.data.Dataset.from_tensor_slices((eng_texts, spa_texts))\n",
        "  dataset = dataset.batch(batch_size)\n",
        "  dataset = dataset.map(format_dataset, num_parallel_calls=4)\n",
        "  return dataset.shuffle(2048).prefetch(16).cache()\n",
        "\n",
        "train_ds = make_dataset(train_pairs)\n",
        "val_ds = make_dataset(val_pairs)\n",
        "\n",
        "for inputs, targets in train_ds.take(1):\n",
        "  print(f\"inputs['english'].shape:{inputs['english'].shape}\")\n",
        "  print(f\"inputs['sinhala'].shape:{inputs['sinhala'].shape}\")\n",
        "  print(f\"targets.shape:{targets.shape}\")\n",
        "\n",
        "  inputs['english'].shape:  (64, 20)\n",
        "  inputs['sinhala'].shape: (64, 20)\n",
        "  targets.shape: (64, 20)\n",
        "print(list(train_ds.as_numpy_iterator())[50])"
      ],
      "metadata": {
        "colab": {
          "base_uri": "https://localhost:8080/"
        },
        "id": "u1GdUR8fJmYn",
        "outputId": "e9102154-172e-472e-e089-3d5c3d8b6ed2"
      },
      "execution_count": 72,
      "outputs": [
        {
          "output_type": "stream",
          "name": "stdout",
          "text": [
            "inputs['english'].shape:(64, 20)\n",
            "inputs['sinhala'].shape:(64, 20)\n",
            "targets.shape:(64, 20)\n",
            "({'english': array([[    7,   355,   176, ...,     0,     0,     0],\n",
            "       [ 1437,    47,    92, ...,     0,     0,     0],\n",
            "       [    2,    63, 12307, ...,     0,     0,     0],\n",
            "       ...,\n",
            "       [   89,    89,     5, ...,     0,     0,     0],\n",
            "       [   53,    17,   126, ...,     0,     0,     0],\n",
            "       [  184,   529,   529, ...,     0,     0,     0]]), 'sinhala': array([[  87,   77, 1276, ...,    0,    0,    0],\n",
            "       [  62, 4040, 4005, ...,    0,    0,    0],\n",
            "       [   7,  745,    2, ...,    0,    0,    0],\n",
            "       ...,\n",
            "       [ 157,  345,    8, ...,    0,    0,    0],\n",
            "       [  90,   11,    5, ...,    0,    0,    0],\n",
            "       [ 431,  524,  524, ...,    0,    0,    0]])}, array([[  77, 1276,    0, ...,    0,    0,    0],\n",
            "       [4040, 4005,    0, ...,    0,    0,    0],\n",
            "       [ 745,    2,  132, ...,    0,    0,    0],\n",
            "       ...,\n",
            "       [ 345,    8,   13, ...,    0,    0,    0],\n",
            "       [  11,    5,  329, ...,    0,    0,    0],\n",
            "       [ 524,  524,  524, ...,    0,    0,    0]]))\n"
          ]
        }
      ]
    },
    {
      "cell_type": "code",
      "source": [
        "\n",
        "import string\n",
        "import tensorflow as tf\n",
        "from tensorflow import keras\n",
        "from tensorflow.keras import layers"
      ],
      "metadata": {
        "id": "ZRe3GQ6tNFWQ"
      },
      "execution_count": 75,
      "outputs": []
    },
    {
      "cell_type": "code",
      "source": [
        "import tensorflow as tf\n",
        "from tensorflow.keras import layers\n",
        "\n",
        "class TransformerEncoder(layers.Layer):\n",
        "    def __init__(self, embed_dim, dense_dim, num_heads, **kwargs):\n",
        "        super().__init__(**kwargs)\n",
        "        self.embed_dim = embed_dim\n",
        "        self.dense_dim = dense_dim\n",
        "        self.num_heads = num_heads\n",
        "        self.attention = layers.MultiHeadAttention(\n",
        "            num_heads=num_heads, key_dim=embed_dim)\n",
        "        self.dense_proj = tf.keras.Sequential([\n",
        "            layers.Dense(dense_dim, activation=\"relu\"),\n",
        "            layers.Dense(embed_dim),\n",
        "        ])\n",
        "        self.layernorm_1 = layers.LayerNormalization()\n",
        "        self.layernorm_2 = layers.LayerNormalization()\n",
        "\n",
        "    def call(self, inputs, mask=None):\n",
        "        if mask is not None:\n",
        "            mask = mask[:, tf.newaxis, :]\n",
        "        attention_output = self.attention(\n",
        "            inputs, inputs, attention_mask=mask)\n",
        "        proj_input = self.layernorm_1(inputs + attention_output)\n",
        "        proj_output = self.dense_proj(proj_input)\n",
        "        return self.layernorm_2(proj_input + proj_output)\n",
        "\n",
        "    def get_config(self):\n",
        "        config = super().get_config()\n",
        "        config.update({\n",
        "            \"embed_dim\": self.embed_dim,\n",
        "            \"num_heads\": self.num_heads,\n",
        "            \"dense_dim\": self.dense_dim,\n",
        "        })\n",
        "        return config\n"
      ],
      "metadata": {
        "id": "p3-O1MbFMCiz"
      },
      "execution_count": 77,
      "outputs": []
    },
    {
      "cell_type": "code",
      "source": [
        "import tensorflow as tf\n",
        "from tensorflow.keras import layers\n",
        "\n",
        "class TransformerDecoder(layers.Layer):\n",
        "    def __init__(self, embed_dim, dense_dim, num_heads, **kwargs):\n",
        "        super().__init__(**kwargs)\n",
        "        self.embed_dim = embed_dim\n",
        "        self.dense_dim = dense_dim\n",
        "        self.num_heads = num_heads\n",
        "        self.attention_1 = layers.MultiHeadAttention(num_heads=num_heads, key_dim=embed_dim)\n",
        "        self.attention_2 = layers.MultiHeadAttention(num_heads=num_heads, key_dim=embed_dim)\n",
        "        self.dense_proj = tf.keras.Sequential([\n",
        "            layers.Dense(dense_dim, activation=\"relu\"),\n",
        "            layers.Dense(embed_dim),\n",
        "        ])\n",
        "        self.layernorm_1 = layers.LayerNormalization()\n",
        "        self.layernorm_2 = layers.LayerNormalization()\n",
        "        self.layernorm_3 = layers.LayerNormalization()\n",
        "        self.supports_masking = True\n",
        "\n",
        "    def get_config(self):\n",
        "        config = super().get_config()\n",
        "        config.update({\n",
        "            \"embed_dim\": self.embed_dim,\n",
        "            \"num_heads\": self.num_heads,\n",
        "            \"dense_dim\": self.dense_dim,\n",
        "        })\n",
        "        return config\n",
        "\n",
        "    def get_causal_attention_mask(self, inputs):\n",
        "        input_shape = tf.shape(inputs)\n",
        "        batch_size, sequence_length = input_shape[0], input_shape[1]\n",
        "        i = tf.range(sequence_length)[:, tf.newaxis]\n",
        "        j = tf.range(sequence_length)\n",
        "        mask = tf.cast(i >= j, dtype=\"int32\")\n",
        "        mask = tf.reshape(mask, (1, input_shape[1], input_shape[1]))\n",
        "        mult = tf.concat([tf.expand_dims(batch_size, -1), tf.constant([1, 1], dtype=tf.int32)], axis=0)\n",
        "        return tf.tile(mask, mult)\n",
        "\n",
        "    def call(self, inputs, encoder_outputs, mask=None):\n",
        "        causal_mask = self.get_causal_attention_mask(inputs)\n",
        "        if mask is not None:\n",
        "            padding_mask = tf.cast(mask[:, tf.newaxis, :], dtype=\"int32\")\n",
        "            padding_mask = tf.minimum(padding_mask, causal_mask)\n",
        "        else:\n",
        "            padding_mask = mask\n",
        "        attention_output_1 = self.attention_1(\n",
        "            query=inputs,\n",
        "            value=inputs,\n",
        "            key=inputs,\n",
        "            attention_mask=causal_mask\n",
        "        )\n",
        "        attention_output_1 = self.layernorm_1(inputs + attention_output_1)\n",
        "        attention_output_2 = self.attention_2(\n",
        "            query=attention_output_1,\n",
        "            value=encoder_outputs,\n",
        "            key=encoder_outputs,\n",
        "            attention_mask=padding_mask,\n",
        "        )\n",
        "        attention_output_2 = self.layernorm_2(attention_output_1 + attention_output_2)\n",
        "        proj_output = self.dense_proj(attention_output_2)\n",
        "        return self.layernorm_3(attention_output_2 + proj_output)\n"
      ],
      "metadata": {
        "id": "nGguNiRsN6RY"
      },
      "execution_count": 78,
      "outputs": []
    },
    {
      "cell_type": "code",
      "source": [
        "import tensorflow as tf\n",
        "from tensorflow.keras import layers\n",
        "\n",
        "class PositionalEmbedding(layers.Layer):\n",
        "    def __init__(self, sequence_length, input_dim, output_dim, **kwargs):\n",
        "        super().__init__(**kwargs)\n",
        "        self.token_embeddings = layers.Embedding(input_dim=input_dim, output_dim=output_dim)\n",
        "        self.position_embeddings = layers.Embedding(input_dim=sequence_length, output_dim=output_dim)\n",
        "        self.sequence_length = sequence_length\n",
        "        self.input_dim = input_dim\n",
        "        self.output_dim = output_dim\n",
        "\n",
        "    def call(self, inputs):\n",
        "        length = tf.shape(inputs)[-1]\n",
        "        positions = tf.range(start=0, limit=length, delta=1)\n",
        "        embedded_tokens = self.token_embeddings(inputs)\n",
        "        embedded_positions = self.position_embeddings(positions)\n",
        "        return embedded_tokens + embedded_positions\n",
        "\n",
        "    def compute_mask(self, inputs, mask=None):\n",
        "        return tf.math.not_equal(inputs, 0)\n",
        "\n",
        "    def get_config(self):\n",
        "        config = super(PositionalEmbedding, self).get_config()\n",
        "        config.update({\n",
        "            \"output_dim\": self.output_dim,\n",
        "            \"sequence_length\": self.sequence_length,\n",
        "            \"input_dim\": self.input_dim,\n",
        "        })\n",
        "        return config\n"
      ],
      "metadata": {
        "id": "KQzl_V5kOUi6"
      },
      "execution_count": 79,
      "outputs": []
    },
    {
      "cell_type": "code",
      "source": [
        "embed_dim = 256\n",
        "dense_dim = 2048\n",
        "num_heads = 8\n",
        "\n",
        "\n",
        "# Define the encoder inputs\n",
        "encoder_inputs = tf.keras.Input(shape=(None,), dtype=\"int64\", name=\"english\")\n",
        "\n",
        "# Add positional embedding to the encoder inputs\n",
        "x = PositionalEmbedding(sequence_length, vocab_size, embed_dim)(encoder_inputs)\n",
        "\n",
        "# Encode the inputs using TransformerEncoder\n",
        "encoder_outputs = TransformerEncoder(embed_dim, dense_dim, num_heads)(x)\n",
        "\n",
        "# Define the decoder inputs\n",
        "decoder_inputs = tf.keras.Input(shape=(None,), dtype=\"int64\", name=\"sinhala\")\n",
        "\n",
        "# Add positional embedding to the decoder inputs\n",
        "x = PositionalEmbedding(sequence_length, vocab_size, embed_dim)(decoder_inputs)\n",
        "\n",
        "# Decode the inputs using TransformerDecoder\n",
        "x = TransformerDecoder(embed_dim, dense_dim, num_heads)(x, encoder_outputs)\n",
        "\n",
        "# Apply dropout\n",
        "x = layers.Dropout(0.5)(x)\n",
        "\n",
        "# Generate decoder outputs\n",
        "decoder_outputs = layers.Dense(vocab_size, activation=\"softmax\")(x)\n",
        "\n",
        "# Create the transformer model\n",
        "transformer = tf.keras.Model([encoder_inputs, decoder_inputs], decoder_outputs)\n",
        "\n",
        "transformer.summary()"
      ],
      "metadata": {
        "colab": {
          "base_uri": "https://localhost:8080/"
        },
        "id": "llCLVX_OOkET",
        "outputId": "c86a8f00-fcbb-410e-8d32-6cb7c48a536f"
      },
      "execution_count": 82,
      "outputs": [
        {
          "output_type": "stream",
          "name": "stdout",
          "text": [
            "Model: \"model_2\"\n",
            "__________________________________________________________________________________________________\n",
            " Layer (type)                Output Shape                 Param #   Connected to                  \n",
            "==================================================================================================\n",
            " english (InputLayer)        [(None, None)]               0         []                            \n",
            "                                                                                                  \n",
            " sinhala (InputLayer)        [(None, None)]               0         []                            \n",
            "                                                                                                  \n",
            " positional_embedding (Posi  (None, None, 256)            3845120   ['english[0][0]']             \n",
            " tionalEmbedding)                                                                                 \n",
            "                                                                                                  \n",
            " positional_embedding_1 (Po  (None, None, 256)            3845120   ['sinhala[0][0]']             \n",
            " sitionalEmbedding)                                                                               \n",
            "                                                                                                  \n",
            " transformer_encoder (Trans  (None, None, 256)            3155456   ['positional_embedding[0][0]']\n",
            " formerEncoder)                                                                                   \n",
            "                                                                                                  \n",
            " transformer_decoder (Trans  (None, None, 256)            5259520   ['positional_embedding_1[0][0]\n",
            " formerDecoder)                                                     ',                            \n",
            "                                                                     'transformer_encoder[0][0]'] \n",
            "                                                                                                  \n",
            " dropout_4 (Dropout)         (None, None, 256)            0         ['transformer_decoder[0][0]'] \n",
            "                                                                                                  \n",
            " dense_38 (Dense)            (None, None, 15000)          3855000   ['dropout_4[0][0]']           \n",
            "                                                                                                  \n",
            "==================================================================================================\n",
            "Total params: 19960216 (76.14 MB)\n",
            "Trainable params: 19960216 (76.14 MB)\n",
            "Non-trainable params: 0 (0.00 Byte)\n",
            "__________________________________________________________________________________________________\n"
          ]
        }
      ]
    },
    {
      "cell_type": "code",
      "source": [
        "transformer.compile(optimizer=\"rmsprop\",\n",
        "                    loss=\"sparse_categorical_crossentropy\",\n",
        "                    metrics=[\"accuracy\"])\n",
        "\n",
        "transformer.fit(train_ds, epochs=30, validation_data=val_ds)\n"
      ],
      "metadata": {
        "colab": {
          "base_uri": "https://localhost:8080/"
        },
        "id": "0gHl79wMPeZ8",
        "outputId": "e338b1c0-141a-4430-c4cb-4c7798ff4f21"
      },
      "execution_count": 84,
      "outputs": [
        {
          "output_type": "stream",
          "name": "stdout",
          "text": [
            "Epoch 1/30\n",
            "882/882 [==============================] - 86s 91ms/step - loss: 2.1279 - accuracy: 0.7071 - val_loss: 4.0059 - val_accuracy: 0.5004\n",
            "Epoch 2/30\n",
            "882/882 [==============================] - 61s 69ms/step - loss: 2.0981 - accuracy: 0.7128 - val_loss: 4.0421 - val_accuracy: 0.5003\n",
            "Epoch 3/30\n",
            "882/882 [==============================] - 61s 69ms/step - loss: 2.0796 - accuracy: 0.7151 - val_loss: 4.0699 - val_accuracy: 0.4999\n",
            "Epoch 4/30\n",
            "882/882 [==============================] - 61s 69ms/step - loss: 2.0601 - accuracy: 0.7191 - val_loss: 4.0661 - val_accuracy: 0.4992\n",
            "Epoch 5/30\n",
            "882/882 [==============================] - 60s 69ms/step - loss: 2.0457 - accuracy: 0.7213 - val_loss: 4.0965 - val_accuracy: 0.5021\n",
            "Epoch 6/30\n",
            "882/882 [==============================] - 60s 69ms/step - loss: 2.0334 - accuracy: 0.7237 - val_loss: 4.1349 - val_accuracy: 0.5010\n",
            "Epoch 7/30\n",
            "882/882 [==============================] - 61s 69ms/step - loss: 2.0192 - accuracy: 0.7259 - val_loss: 4.1200 - val_accuracy: 0.5035\n",
            "Epoch 8/30\n",
            "882/882 [==============================] - 60s 69ms/step - loss: 2.0010 - accuracy: 0.7283 - val_loss: 4.2289 - val_accuracy: 0.4982\n",
            "Epoch 9/30\n",
            "882/882 [==============================] - 61s 69ms/step - loss: 1.9902 - accuracy: 0.7310 - val_loss: 4.2046 - val_accuracy: 0.4990\n",
            "Epoch 10/30\n",
            "882/882 [==============================] - 61s 69ms/step - loss: 1.9784 - accuracy: 0.7334 - val_loss: 4.1928 - val_accuracy: 0.4991\n",
            "Epoch 11/30\n",
            "882/882 [==============================] - 65s 74ms/step - loss: 1.9704 - accuracy: 0.7342 - val_loss: 4.2141 - val_accuracy: 0.5062\n",
            "Epoch 12/30\n",
            "882/882 [==============================] - 61s 69ms/step - loss: 1.9604 - accuracy: 0.7356 - val_loss: 4.3026 - val_accuracy: 0.4990\n",
            "Epoch 13/30\n",
            "882/882 [==============================] - 61s 69ms/step - loss: 1.9465 - accuracy: 0.7386 - val_loss: 4.3039 - val_accuracy: 0.5014\n",
            "Epoch 14/30\n",
            "882/882 [==============================] - 61s 69ms/step - loss: 1.9301 - accuracy: 0.7415 - val_loss: 4.3352 - val_accuracy: 0.4983\n",
            "Epoch 15/30\n",
            "882/882 [==============================] - 61s 69ms/step - loss: 1.9231 - accuracy: 0.7431 - val_loss: 4.3225 - val_accuracy: 0.5017\n",
            "Epoch 16/30\n",
            "882/882 [==============================] - 61s 69ms/step - loss: 1.9138 - accuracy: 0.7440 - val_loss: 4.3832 - val_accuracy: 0.4993\n",
            "Epoch 17/30\n",
            "882/882 [==============================] - 64s 73ms/step - loss: 1.9050 - accuracy: 0.7457 - val_loss: 4.3678 - val_accuracy: 0.5033\n",
            "Epoch 18/30\n",
            "882/882 [==============================] - 61s 69ms/step - loss: 1.8909 - accuracy: 0.7481 - val_loss: 4.3823 - val_accuracy: 0.5012\n",
            "Epoch 19/30\n",
            "882/882 [==============================] - 61s 69ms/step - loss: 1.8814 - accuracy: 0.7493 - val_loss: 4.4141 - val_accuracy: 0.5005\n",
            "Epoch 20/30\n",
            "882/882 [==============================] - 61s 69ms/step - loss: 1.8703 - accuracy: 0.7515 - val_loss: 4.4247 - val_accuracy: 0.4995\n",
            "Epoch 21/30\n",
            "882/882 [==============================] - 61s 69ms/step - loss: 1.8640 - accuracy: 0.7523 - val_loss: 4.4287 - val_accuracy: 0.5010\n",
            "Epoch 22/30\n",
            "882/882 [==============================] - 60s 68ms/step - loss: 1.8581 - accuracy: 0.7529 - val_loss: 4.4538 - val_accuracy: 0.4971\n",
            "Epoch 23/30\n",
            "882/882 [==============================] - 61s 69ms/step - loss: 1.8532 - accuracy: 0.7539 - val_loss: 4.4712 - val_accuracy: 0.4996\n",
            "Epoch 24/30\n",
            "882/882 [==============================] - 65s 73ms/step - loss: 1.8337 - accuracy: 0.7568 - val_loss: 4.4816 - val_accuracy: 0.5023\n",
            "Epoch 25/30\n",
            "882/882 [==============================] - 61s 70ms/step - loss: 1.8350 - accuracy: 0.7571 - val_loss: 4.4755 - val_accuracy: 0.5012\n",
            "Epoch 26/30\n",
            "882/882 [==============================] - 61s 69ms/step - loss: 1.8185 - accuracy: 0.7596 - val_loss: 4.5328 - val_accuracy: 0.4984\n",
            "Epoch 27/30\n",
            "882/882 [==============================] - 61s 69ms/step - loss: 1.8079 - accuracy: 0.7610 - val_loss: 4.5703 - val_accuracy: 0.4995\n",
            "Epoch 28/30\n",
            "882/882 [==============================] - 61s 69ms/step - loss: 1.7974 - accuracy: 0.7629 - val_loss: 4.5515 - val_accuracy: 0.5009\n",
            "Epoch 29/30\n",
            "882/882 [==============================] - 65s 73ms/step - loss: 1.7904 - accuracy: 0.7637 - val_loss: 4.5691 - val_accuracy: 0.4985\n",
            "Epoch 30/30\n",
            "882/882 [==============================] - 65s 73ms/step - loss: 1.7851 - accuracy: 0.7642 - val_loss: 4.6105 - val_accuracy: 0.4985\n"
          ]
        },
        {
          "output_type": "execute_result",
          "data": {
            "text/plain": [
              "<keras.src.callbacks.History at 0x7f3f86fd2980>"
            ]
          },
          "metadata": {},
          "execution_count": 84
        }
      ]
    },
    {
      "cell_type": "code",
      "source": [
        "import numpy as np\n",
        "\n",
        "# Define the vocabulary and index lookup for Spanish\n",
        "spa_vocab = target_vectorization.get_vocabulary()\n",
        "spa_index_lookup = dict(zip(range(len(spa_vocab)), spa_vocab))\n",
        "max_decoded_sentence_length = 20\n",
        "\n",
        "def decode_sequence(input_sentence):\n",
        "    tokenized_input_sentence = source_vectorization([input_sentence])\n",
        "    decoded_sentence = \"[start]\"\n",
        "\n",
        "    for i in range(max_decoded_sentence_length):\n",
        "        tokenized_target_sentence = target_vectorization([decoded_sentence])[:, :-1]\n",
        "        predictions = transformer([tokenized_input_sentence, tokenized_target_sentence])\n",
        "        sampled_token_index = np.argmax(predictions[0, i, :])\n",
        "        sampled_token = spa_index_lookup[sampled_token_index]\n",
        "        decoded_sentence += \" \" + sampled_token\n",
        "\n",
        "        if sampled_token == \"[end]\":\n",
        "            break\n",
        "\n",
        "    return decoded_sentence\n",
        "\n",
        "test_eng_texts = [pair[0] for pair in test_pairs]\n",
        "\n",
        "for _ in range(20):\n",
        "    input_sentence = random.choice(test_eng_texts)\n",
        "    print(\"-\")\n",
        "    print(input_sentence)\n",
        "    print(decode_sequence(input_sentence))\n"
      ],
      "metadata": {
        "colab": {
          "base_uri": "https://localhost:8080/"
        },
        "id": "oobEWTErhTCp",
        "outputId": "64f93689-ef28-4329-ef5f-ff717834a59e"
      },
      "execution_count": 85,
      "outputs": [
        {
          "output_type": "stream",
          "name": "stdout",
          "text": [
            "-\n",
            "එයා එයාට කවුරුවත් නෑනේ\n",
            "[start] he has no one[end]                \n",
            "-\n",
            "අපි දරුවාව හොයාගන්නම් වෑන් එකත් වැඩි වෙලාවක් යන්නේ නෑ\n",
            "[start] will not find a big name of a [UNK]           \n",
            "-\n",
            "අහන්නඔයා මෙයා කියන්න ඕන නෑ\n",
            "[start] he needs to say no no[end]              \n",
            "-\n",
            "මම එයාට පයින් ගහනවා එයා එච්චර හොඳ වුනේ නැත්නම්\n",
            "[start] he made him than that that well[end]             \n",
            "-\n",
            "ශික්\n",
            "[start]                    \n",
            "-\n",
            "ඔව් මට ඇති වෙලා බේරිච්ච එකම කෙනා වෙලා\n",
            "[start] have the enough to get a hero[end]             \n",
            "-\n",
            "ඔව් බායි අළුත් කෙල්ල\n",
            "[start] new girl what[end]                 \n",
            "-\n",
            "ඒකට ඔයාලට පුලුවන් මේ ඕනිම උපකරණයක් යොදාගන්න\n",
            "[start] can [UNK] are going army there to use this tree[end]          \n",
            "-\n",
            "ගේට්ටුවේ සොල්දාදුවා කිව්වා මගේ පුතා මෙහෙ ඇති කියලා\n",
            "[start] sister called my son you here tomorrow right[end]            \n",
            "-\n",
            "මගේ පෙම්වතාව හොරකම් කරගන්න කලින්\n",
            "[start] from my hands before use you[end]              \n",
            "-\n",
            "තාම හොඳින් ඉන්නවා වගේ\n",
            "[start] still well[end]                  \n",
            "-\n",
            "මේක ඓතිහාසික මොහොතක්\n",
            "[start] from the [UNK]                 \n",
            "-\n",
            "කොහොමද ඔයාගෙ බබා\n",
            "[start] your baby[end]                  \n",
            "-\n",
            "මොකක්ද    එකපාරටම කාර් එක අයින් කරන්න ඕනෙද\n",
            "[start] do of our car number what[end]              \n",
            "-\n",
            "ඒ මම නෙමෙයි ටයි\n",
            "[start] i am not shut up[end]               \n",
            "-\n",
            "හරි\n",
            "[start] okay[end]                   \n",
            "-\n",
            "හැකිළීම්\n",
            "[start] from [UNK]                  \n",
            "-\n",
            "ඉතිං එයා දැන් මෙතන ඉන්නවාද\n",
            "[start] here hes right now[end]  here[end]              \n",
            "-\n",
            "මේ හැමදේම සූදානම් කලේ කවුරු කියලාද හිතන්නේ\n",
            "[start] from what this is thinking who was thinking[end]            \n",
            "-\n",
            "මේ මොකක්ද\n",
            "[start] what[end]                   \n"
          ]
        }
      ]
    },
    {
      "cell_type": "code",
      "source": [
        "import numpy as np\n",
        "\n",
        "# Define the vocabulary and index lookup for Sinhala\n",
        "sin_vocab = target_vectorization.get_vocabulary()\n",
        "sin_index_lookup = dict(zip(range(len(sin_vocab)), sin_vocab))\n",
        "max_decoded_sentence_length = 20\n",
        "\n",
        "def decode_sequence(input_sentence):\n",
        "    tokenized_input_sentence = source_vectorization([input_sentence])\n",
        "    decoded_sentence = \"[start]\"\n",
        "\n",
        "    for i in range(max_decoded_sentence_length):\n",
        "        tokenized_target_sentence = target_vectorization([decoded_sentence])[:, :-1]\n",
        "        predictions = transformer([tokenized_input_sentence, tokenized_target_sentence])\n",
        "        sampled_token_index = np.argmax(predictions[0, i, :])\n",
        "        sampled_token = sin_index_lookup[sampled_token_index]\n",
        "        decoded_sentence += \" \" + sampled_token\n",
        "\n",
        "        if sampled_token == \"[end]\":\n",
        "            break\n",
        "\n",
        "    return decoded_sentence\n",
        "\n",
        "test_eng_texts = [pair[0] for pair in test_pairs]\n",
        "\n",
        "for _ in range(20):\n",
        "    input_sentence = random.choice(test_eng_texts)\n",
        "    print(\"-\")\n",
        "    print(\"English: \", input_sentence)\n",
        "    print(\"Sinhala: \", decode_sequence(input_sentence))\n"
      ],
      "metadata": {
        "colab": {
          "base_uri": "https://localhost:8080/"
        },
        "id": "ffe0dzs6hldz",
        "outputId": "48b27edc-9ba3-463f-c15d-428c76b5eb7e"
      },
      "execution_count": 86,
      "outputs": [
        {
          "output_type": "stream",
          "name": "stdout",
          "text": [
            "-\n",
            "English:  එයාව දාලා කෑමක් හදලා ඒ නිසයි එයා මෙච්චර නපුරු\n",
            "Sinhala:  [start] made this is a artist for that so why wont be caught he[end]       \n",
            "-\n",
            "English:  මං දැනගත්තා මොකක් හරි අවුලක් තියනවා කියලා\n",
            "Sinhala:  [start] something i know is that okay[end]              \n",
            "-\n",
            "English:  තව එක පාරක්\n",
            "Sinhala:  [start] another time[end]                  \n",
            "-\n",
            "English:  සහෝදරිසහෝදරි ගාන එක නවත්තලා හරියට ඕක මහලා දෙන්න\n",
            "Sinhala:  [start] from stop the artist and give that[end]   that[end]          \n",
            "-\n",
            "English:  මං දන්නේ නැහැ\n",
            "Sinhala:  [start] i dont know[end]                 \n",
            "-\n",
            "English:  කකුල කඩපන් මුගේ\n",
            "Sinhala:  [start] as my daughter from me[end]               \n",
            "-\n",
            "English:  එයාට කියන්න ඔයා මට කියපු දේ\n",
            "Sinhala:  [start] tell what you did to tell him[end]             \n",
            "-\n",
            "English:  කෙසෙල් කැරමල්\n",
            "Sinhala:  [start] from the [UNK] [UNK]                \n",
            "-\n",
            "English:  ඔයා එයාගෙන අහනවාද\n",
            "Sinhala:  [start] from [UNK]                  \n",
            "-\n",
            "English:  බය වෙන්න දෙයක් නැහැ මොකද මෙයාගෙන් නම් මම හැමදාම ගුටි කනවා\n",
            "Sinhala:  [start] be afraid something does not [UNK] from him every day[end]          \n",
            "-\n",
            "English:  බයමම\n",
            "Sinhala:  [start] from [UNK]                  \n",
            "-\n",
            "English:  එයාගේ දුව නැති ලෝකයක් එයාට හිතාගන්න බැරි වුනා\n",
            "Sinhala:  [start] his daughter than a world who felt sad heart[end]           \n",
            "-\n",
            "English:  වදවෙන්න එපා\n",
            "Sinhala:  [start] do not[end]                  \n",
            "-\n",
            "English:  ජේක්\n",
            "Sinhala:  [start]                    \n",
            "-\n",
            "English:  ස්තූතියි\n",
            "Sinhala:  [start] thank you[end]                  \n",
            "-\n",
            "English:  ඒක\n",
            "Sinhala:  [start] it[end]                   \n",
            "-\n",
            "English:  ඔයාගෙ කැමැත්තක්\n",
            "Sinhala:  [start] from your wish[end]                 \n",
            "-\n",
            "English:  එපා\n",
            "Sinhala:  [start] from him[end]                  \n",
            "-\n",
            "English:  ඔයා ආයෙත් මට කුණුහරප කියනවා\n",
            "Sinhala:  [start] again tell me[end]                 \n",
            "-\n",
            "English:  ඔයා කොහෙද යන්නේ     එයාට හොයාගන්න දෙන්න\n",
            "Sinhala:  [start] where are you going to find him[end]             \n"
          ]
        }
      ]
    },
    {
      "cell_type": "code",
      "source": [
        "import numpy as np\n",
        "\n",
        "# Define the vocabulary and index lookup for Sinhala\n",
        "sin_vocab = target_vectorization.get_vocabulary()\n",
        "sin_index_lookup = dict(zip(range(len(sin_vocab)), sin_vocab))\n",
        "max_decoded_sentence_length = 20\n",
        "\n",
        "def decode_sequence(input_sentence):\n",
        "    tokenized_input_sentence = source_vectorization([input_sentence])\n",
        "    decoded_sentence = \"[start]\"\n",
        "\n",
        "    for i in range(max_decoded_sentence_length):\n",
        "        tokenized_target_sentence = target_vectorization([decoded_sentence])[:, :-1]\n",
        "        predictions = transformer([tokenized_input_sentence, tokenized_target_sentence])\n",
        "        sampled_token_index = np.argmax(predictions[0, i, :])\n",
        "        sampled_token = sin_index_lookup[sampled_token_index]\n",
        "        decoded_sentence += \" \" + sampled_token\n",
        "\n",
        "        if sampled_token == \"[end]\":\n",
        "            break\n",
        "\n",
        "    return decoded_sentence\n",
        "\n",
        "# Get English input from the user\n",
        "input_sentence = input(\"Enter an English sentence: \")\n",
        "\n",
        "# Translate the input sentence to Sinhala\n",
        "translated_sentence = decode_sequence(input_sentence)\n",
        "\n",
        "# Print the translated sentence\n",
        "print(\"Sinhala translation:\", translated_sentence)\n"
      ],
      "metadata": {
        "colab": {
          "base_uri": "https://localhost:8080/"
        },
        "id": "5Br7yrudhyLK",
        "outputId": "9626ff84-7456-45fc-f308-3f34d9fa2fa9"
      },
      "execution_count": 90,
      "outputs": [
        {
          "output_type": "stream",
          "name": "stdout",
          "text": [
            "Enter an English sentence: ඔයාගෙ කැමැත්තක්\n",
            "Sinhala translation: [start] from your wish[end]                 \n"
          ]
        }
      ]
    }
  ]
}